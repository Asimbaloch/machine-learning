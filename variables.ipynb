{
  "nbformat": 4,
  "nbformat_minor": 0,
  "metadata": {
    "colab": {
      "provenance": [],
      "authorship_tag": "ABX9TyO9zMLoylPeVWkeV5lK/bL6",
      "include_colab_link": true
    },
    "kernelspec": {
      "name": "python3",
      "display_name": "Python 3"
    },
    "language_info": {
      "name": "python"
    }
  },
  "cells": [
    {
      "cell_type": "markdown",
      "metadata": {
        "id": "view-in-github",
        "colab_type": "text"
      },
      "source": [
        "<a href=\"https://colab.research.google.com/github/Asimbaloch/machine-learning/blob/main/variables.ipynb\" target=\"_parent\"><img src=\"https://colab.research.google.com/assets/colab-badge.svg\" alt=\"Open In Colab\"/></a>"
      ]
    },
    {
      "cell_type": "markdown",
      "source": [
        "##Variable:\n",
        "A defined name that refrences an Object.\n",
        "variable_name = value"
      ],
      "metadata": {
        "id": "2gAVIJ7rWO1H"
      }
    },
    {
      "cell_type": "code",
      "source": [
        "salary = 1000"
      ],
      "metadata": {
        "id": "4HRipQChWcEO"
      },
      "execution_count": 22,
      "outputs": []
    },
    {
      "cell_type": "code",
      "source": [
        "salary"
      ],
      "metadata": {
        "colab": {
          "base_uri": "https://localhost:8080/"
        },
        "id": "XA2FTMjVWOCO",
        "outputId": "ba3a95a8-7f5f-452a-bf73-18a12899358b"
      },
      "execution_count": 23,
      "outputs": [
        {
          "output_type": "execute_result",
          "data": {
            "text/plain": [
              "1000"
            ]
          },
          "metadata": {},
          "execution_count": 23
        }
      ]
    },
    {
      "cell_type": "code",
      "source": [
        "salary = 10000\n",
        "bonus_rate = .10\n",
        "\n",
        "total_salary = salary + (salary * bonus_rate)\n",
        "total_salary"
      ],
      "metadata": {
        "colab": {
          "base_uri": "https://localhost:8080/"
        },
        "id": "hG4pSJ50WsJS",
        "outputId": "cd969c22-55d4-41c6-f3d0-cab6e4cbebbb"
      },
      "execution_count": 24,
      "outputs": [
        {
          "output_type": "execute_result",
          "data": {
            "text/plain": [
              "11000.0"
            ]
          },
          "metadata": {},
          "execution_count": 24
        }
      ]
    },
    {
      "cell_type": "code",
      "source": [
        "#Creating the variables for the job Description\n",
        "job_id = 11\n",
        "job_title = \"Data Analyst\"\n",
        "job_wfh = True\n",
        "job_salary = 100000\n",
        "\n",
        "print (\"JOb Description\")\n",
        "print (\"*********\")\n",
        "print(job_id)\n",
        "print(job_title)\n",
        "print(job_wfh)\n",
        "print(job_salary)\n",
        "\n",
        "print (type(job_id))\n",
        "print (type(job_title))\n",
        "print (type(job_wfh))\n",
        "print (type(job_salary))\n",
        "\n",
        "print(f\"JOB:{job_title}\\nTitle : {job_title}\\nWork from Home: {job_wfh}\\nSalary: {job_salary}\")\n",
        "\n"
      ],
      "metadata": {
        "colab": {
          "base_uri": "https://localhost:8080/"
        },
        "id": "0af5z4_Jckg1",
        "outputId": "65957ab3-bf53-4bc8-d280-ee68812584c2"
      },
      "execution_count": 30,
      "outputs": [
        {
          "output_type": "stream",
          "name": "stdout",
          "text": [
            "JOb Description\n",
            "*********\n",
            "11\n",
            "Data Analyst\n",
            "True\n",
            "100000\n",
            "<class 'int'>\n",
            "<class 'str'>\n",
            "<class 'bool'>\n",
            "<class 'int'>\n",
            "JOB:Data Analyst\n",
            "Title : Data Analyst\n",
            "Work from Home: True\n",
            "Salary: 100000\n"
          ]
        }
      ]
    },
    {
      "cell_type": "code",
      "source": [
        "job_1 = \"Data Analyst\"\n",
        "job_2 = \"Data Analyst\"\n",
        "\n",
        "\n",
        "print(id(job_1),id(job_2))"
      ],
      "metadata": {
        "colab": {
          "base_uri": "https://localhost:8080/"
        },
        "id": "tjiqqHkid9XL",
        "outputId": "ece32d8a-a9d8-4d9a-c0e7-d0c51087f600"
      },
      "execution_count": 36,
      "outputs": [
        {
          "output_type": "stream",
          "name": "stdout",
          "text": [
            "136727980297264 136727980305456\n"
          ]
        }
      ]
    }
  ]
}